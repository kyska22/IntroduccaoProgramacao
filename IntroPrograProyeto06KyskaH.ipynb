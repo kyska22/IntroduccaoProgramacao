{
  "nbformat": 4,
  "nbformat_minor": 0,
  "metadata": {
    "colab": {
      "provenance": [],
      "toc_visible": true,
      "authorship_tag": "ABX9TyNG+O+w281Ml31OKEfFp7pc",
      "include_colab_link": true
    },
    "kernelspec": {
      "name": "python3",
      "display_name": "Python 3"
    },
    "language_info": {
      "name": "python"
    }
  },
  "cells": [
    {
      "cell_type": "markdown",
      "metadata": {
        "id": "view-in-github",
        "colab_type": "text"
      },
      "source": [
        "<a href=\"https://colab.research.google.com/github/kyska22/IntroduccaoProgramacao/blob/main/IntroPrograProyeto06KyskaH.ipynb\" target=\"_parent\"><img src=\"https://colab.research.google.com/assets/colab-badge.svg\" alt=\"Open In Colab\"/></a>"
      ]
    },
    {
      "cell_type": "code",
      "execution_count": 4,
      "metadata": {
        "colab": {
          "base_uri": "https://localhost:8080/"
        },
        "id": "trHdSD9gpu5j",
        "outputId": "eb2e97fc-3a2d-443e-cf50-9546bd0f4078"
      },
      "outputs": [
        {
          "output_type": "stream",
          "name": "stdout",
          "text": [
            "Escreva seu nome: \n",
            "Kyska\n",
            "Digite o ano de nascimento\n",
            "2021\n",
            "Seu nome é:  Kyska tem a idade:  2\n"
          ]
        }
      ],
      "source": [
        "print(\"Escreva seu nome: \")\n",
        "nome = input()\n",
        "\n",
        "x = True\n",
        "\n",
        "while(x == True):\n",
        "  print(\"Digite o ano de nascimento\")\n",
        "  try:\n",
        "    ano = int(input())\n",
        "    if (ano < 1992) or (ano > 2022):\n",
        "      print(\"O ano tem que ser entre 1922 e 2022\")\n",
        "    else:\n",
        "      idade = 2023 - ano\n",
        "      print(\"Seu nome é: \", nome, \"tem a idade: \",idade)\n",
        "      x = False\n",
        "  except:\n",
        "      print(\"Debe digitar apenas numeros\")"
      ]
    }
  ]
}